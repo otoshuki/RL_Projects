{
 "cells": [
  {
   "cell_type": "code",
   "execution_count": 1,
   "id": "a56d6787",
   "metadata": {},
   "outputs": [
    {
     "name": "stderr",
     "output_type": "stream",
     "text": [
      "2024-06-11 13:35:21.285005: E external/local_xla/xla/stream_executor/cuda/cuda_dnn.cc:9261] Unable to register cuDNN factory: Attempting to register factory for plugin cuDNN when one has already been registered\n",
      "2024-06-11 13:35:21.285075: E external/local_xla/xla/stream_executor/cuda/cuda_fft.cc:607] Unable to register cuFFT factory: Attempting to register factory for plugin cuFFT when one has already been registered\n",
      "2024-06-11 13:35:21.312947: E external/local_xla/xla/stream_executor/cuda/cuda_blas.cc:1515] Unable to register cuBLAS factory: Attempting to register factory for plugin cuBLAS when one has already been registered\n",
      "2024-06-11 13:35:21.386228: I tensorflow/core/platform/cpu_feature_guard.cc:182] This TensorFlow binary is optimized to use available CPU instructions in performance-critical operations.\n",
      "To enable the following instructions: AVX2 FMA, in other operations, rebuild TensorFlow with the appropriate compiler flags.\n",
      "2024-06-11 13:35:22.145797: W tensorflow/compiler/tf2tensorrt/utils/py_utils.cc:38] TF-TRT Warning: Could not find TensorRT\n"
     ]
    }
   ],
   "source": [
    "import os\n",
    "import time\n",
    "import cv2\n",
    "import numpy as np\n",
    "import matplotlib.pyplot as plt\n",
    "import tensorflow as tf\n",
    "import tensorflow.keras as keras\n",
    "import tensorflow.keras.layers as L\n",
    "from IPython.display import clear_output\n",
    "#ENV Stuff\n",
    "from rocket import Rocket\n",
    "import utils\n",
    "\n",
    "%matplotlib inline"
   ]
  },
  {
   "cell_type": "code",
   "execution_count": 2,
   "id": "e7a76db8",
   "metadata": {},
   "outputs": [
    {
     "name": "stdout",
     "output_type": "stream",
     "text": [
      "[PhysicalDevice(name='/physical_device:GPU:0', device_type='GPU')]\n"
     ]
    },
    {
     "name": "stderr",
     "output_type": "stream",
     "text": [
      "2024-06-11 13:35:23.115015: I external/local_xla/xla/stream_executor/cuda/cuda_executor.cc:901] successful NUMA node read from SysFS had negative value (-1), but there must be at least one NUMA node, so returning NUMA node zero. See more at https://github.com/torvalds/linux/blob/v6.0/Documentation/ABI/testing/sysfs-bus-pci#L344-L355\n",
      "2024-06-11 13:35:23.217625: I external/local_xla/xla/stream_executor/cuda/cuda_executor.cc:901] successful NUMA node read from SysFS had negative value (-1), but there must be at least one NUMA node, so returning NUMA node zero. See more at https://github.com/torvalds/linux/blob/v6.0/Documentation/ABI/testing/sysfs-bus-pci#L344-L355\n",
      "2024-06-11 13:35:23.217914: I external/local_xla/xla/stream_executor/cuda/cuda_executor.cc:901] successful NUMA node read from SysFS had negative value (-1), but there must be at least one NUMA node, so returning NUMA node zero. See more at https://github.com/torvalds/linux/blob/v6.0/Documentation/ABI/testing/sysfs-bus-pci#L344-L355\n"
     ]
    }
   ],
   "source": [
    "physical_devices = tf.config.experimental.list_physical_devices('GPU')\n",
    "print(physical_devices)\n",
    "tf.config.experimental.set_memory_growth(physical_devices[0], True)"
   ]
  },
  {
   "cell_type": "markdown",
   "id": "9950c76d",
   "metadata": {},
   "source": [
    "## Environment Setup\n",
    "\n",
    "#### We are using Zhengxia Zou, Rocket-recycling with Reinforcement Learning, 2021\n",
    "\n",
    "#### Repo Link: https://github.com/jiupinjia/rocket-recycling\n",
    "\n",
    "We will be focusing on the landing problem with rockets\n",
    "\n"
   ]
  },
  {
   "cell_type": "code",
   "execution_count": 35,
   "id": "f1be31f1",
   "metadata": {},
   "outputs": [],
   "source": [
    "task = 'landing'\n",
    "num_steps = 800 #Environment steps\n",
    "env = Rocket(task=task, max_steps=num_steps, rocket_type='starship')\n",
    "obs_N = env.state_dims #Observations are x, y, vx, vy, theta, vtheta, t, phi(nozzle angle), total 8\n",
    "act_N = env.action_dims #Actions are 3 thrust values in 3 directions, total 9\n",
    "\n",
    "tf_writer = tf.summary.create_file_writer('./logs/')"
   ]
  },
  {
   "cell_type": "markdown",
   "id": "e5a23131",
   "metadata": {},
   "source": [
    "## Agent Setup\n",
    "\n",
    "#### We wrote our own PPO-CLIP agent in Tensorflow 2\n",
    "Actor            |  Critic\n",
    ":-------------------------:|:-------------------------:\n",
    "<img src=\"actor.png\" alt=\"actor\" width=\"200\"/>  |  <img src=\"critic.png\" alt=\"critic\" width=\"200\"/>\n",
    "\n",
    "### Overall algorithm\n",
    "* Initialize actor(policy), critic networks\n",
    "* Collect trajectory(t=0 to T) in TRAJ\n",
    "    * a = sample($\\pi_{\\theta_k}(a|s)$)\n",
    "    * s', r, d = env.step(a)\n",
    "    * logprob = $log(\\pi_{\\theta_k}(a|s)))$\n",
    "* Calculate Advantage A using Generalized Advantage Estimation\n",
    "* Calculate Reward-to-go RTG\n",
    "* Update Actor\n",
    "    * Get $log(\\pi_\\theta(a|s))$ using TRAJ\n",
    "    * Calculate Diff: $log(\\pi_\\theta(a|s))-log(\\pi_{\\theta_k}(a|s))$\n",
    "    * Calculate Ratio: exp(diff)\n",
    "    * Calculate Loss: $\\mathbb{E}_t$[min(Ratio\\*A, clip(Ratio, 1-$\\epsilon$, 1+$\\epsilon$)\\*A)]\n",
    "    * Perform gradient descent on -Loss\n",
    "* Update Critic\n",
    "    * Get $V(s)$ using critic\n",
    "    * Calculate Diff: $V(s)-RTG$\n",
    "    * Calculate Loss: MSE(Diff)\n",
    "    * Perform gradient descent on Loss"
   ]
  },
  {
   "cell_type": "code",
   "execution_count": 36,
   "id": "c1ac2c1c",
   "metadata": {},
   "outputs": [],
   "source": [
    "def createActorCritic(obs_N, act_N):\n",
    "    \"\"\"\n",
    "    Just a combined model\n",
    "    \"\"\"\n",
    "    #Preprocess\n",
    "    inp = keras.Input(shape=obs_N, name='obs_input')\n",
    "    #Actor\n",
    "    ac = L.Dense(64, activation='relu', name='Afc1')(inp)\n",
    "    ac = L.Dense(64, activation='relu', name='Afc2')(ac)\n",
    "    ac = L.Dense(act_N, activation='softmax', name='Afc3')(ac)\n",
    "    #Critic\n",
    "    cr = L.Dense(64, activation='relu', name='Cfc1')(inp)\n",
    "    cr = L.Dense(64, activation='relu', name='Cfc2')(cr)\n",
    "    cr = L.Dense(1, activation='linear', name='Cfc3')(cr)\n",
    "    model = keras.Model(inputs=inp, outputs=[ac, cr], name='actor_critic')\n",
    "    return model\n",
    "\n",
    "class PPOClipAgent:\n",
    "    def __init__(self, obs_N, act_N, lr=1e-3, gamma=0.99, clip=0.2, lmbda=0.98, entropy=1e-3, tf_writer=None):\n",
    "        self.writer = tf_writer\n",
    "        #Agent parameters\n",
    "        self.obs_N = obs_N\n",
    "        self.act_N = act_N\n",
    "        self.gamma = gamma\n",
    "        #Network\n",
    "        self.actor_critic = createActorCritic(obs_N, act_N)\n",
    "        self.optimizer = keras.optimizers.Adam(learning_rate=lr, clipvalue=1)\n",
    "        #PPO specifics\n",
    "        self.clip = clip\n",
    "        self.lmbda = lmbda\n",
    "        self.entropy = entropy\n",
    "\n",
    "    def get_action(self, obs):\n",
    "        \"\"\"\n",
    "        Return a discrete action from actor's softmax distribution\n",
    "        \"\"\"\n",
    "        action_probs, _ = self.actor_critic(np.atleast_2d(obs))\n",
    "        action_probs = action_probs.numpy().flatten()\n",
    "        action = np.random.choice(np.arange(self.act_N), p=action_probs)\n",
    "        return action, action_probs[action]\n",
    "    \n",
    "    def get_bestaction(self, obs):\n",
    "        \"\"\"\n",
    "        Returns the amax\n",
    "        \"\"\"\n",
    "        action_probs, _ = self.actor_critic(np.atleast_2d(obs))\n",
    "        action = tf.argmax(action_probs.numpy().flatten())\n",
    "        return action\n",
    "    \n",
    "    def get_rtg(self, r):\n",
    "        \"\"\"\n",
    "        Get rewards to go of a batch\n",
    "        Which is nothing but discounted rewards from s\n",
    "        \"\"\"\n",
    "        rtg = np.zeros(len(r)+1)\n",
    "        for i in reversed(range(len(r))):\n",
    "            rtg[i] = r[i] + self.gamma*rtg[i+1]\n",
    "        return rtg[:-1]\n",
    "\n",
    "    def get_gae(self, s, r, next_s, done):\n",
    "        \"\"\"\n",
    "        Get generalized advantage estimation of a batch\n",
    "        \"\"\"\n",
    "        #Get values\n",
    "        _, v_vals_s = self.actor_critic(np.atleast_2d(s))\n",
    "        #This is essentially shifted v_vals_s along with final state, used here to make implementation easy\n",
    "        _, v_vals_next_s = self.actor_critic(np.atleast_2d(next_s))\n",
    "        v_vals_s = v_vals_s.numpy()\n",
    "        v_vals_next_s = v_vals_next_s.numpy()\n",
    "        adv = np.zeros(len(r)+1)\n",
    "        for i in reversed(range(len(r))):\n",
    "            #td_t = r_t + gamma*V(s_t+1) - V(s_t)\n",
    "            td_err = r[i] + self.gamma*v_vals_next_s[i]*(1-done[i]) - v_vals_s[i]\n",
    "            #A_t = td_t + gamma*lambda*A_t+1\n",
    "            adv[i] = td_err + self.gamma*self.lmbda*adv[i+1]\n",
    "        return adv[:-1] \n",
    "    \n",
    "    def train_step(self, s, a, probs, rtg, adv):\n",
    "        \"\"\"\n",
    "        Train using experiences\n",
    "        \"\"\"\n",
    "        rtg = tf.constant(tf.cast(rtg, tf.float32))\n",
    "        adv = tf.constant(tf.cast(adv, tf.float32))\n",
    "        probs = tf.constant(tf.squeeze(probs))\n",
    "        #logPi_k(a|s)\n",
    "        logprobs = tf.squeeze(tf.math.log(probs+1e-9)) #Prevents NaN value\n",
    "        #Updates\n",
    "        learnables = self.actor_critic.trainable_variables\n",
    "        with tf.GradientTape() as tape:\n",
    "            actor_loss, critic_loss = self.total_loss(s, a, logprobs, rtg, adv)\n",
    "            loss = actor_loss + critic_loss\n",
    "        grads = tape.gradient(loss, learnables)\n",
    "        self.optimizer.apply_gradients(zip(grads, learnables))\n",
    "            \n",
    "        return actor_loss, critic_loss\n",
    "    \n",
    "    def total_loss(self, s, a, logprobs, rtg, adv):\n",
    "        \"\"\"\n",
    "        Returns actor and critic losses\n",
    "        \"\"\"\n",
    "        curr_probs, v_vals_s = self.actor_critic(s, training=True)\n",
    "        #For Actor\n",
    "        curr_probs = tf.reduce_sum(curr_probs*tf.one_hot(a, self.act_N), axis=1)\n",
    "        curr_logprobs = tf.math.log(curr_probs+1e-9) #Prevents NaN value\n",
    "        ratio = tf.math.exp(curr_logprobs-logprobs)\n",
    "        #Surrogates\n",
    "        surrogate1 = ratio*adv\n",
    "        surrogate2 = tf.where(adv>0, (1+self.clip)*adv, (1-self.clip)*adv)\n",
    "        #Loss is the mean of minimum\n",
    "        clip_loss = tf.math.reduce_mean(tf.math.minimum(surrogate1, surrogate2))\n",
    "        #For exploration, calculate entropy value\n",
    "        entropy = tf.math.reduce_mean(-curr_probs*curr_logprobs)\n",
    "        #Actor loss is negative for gradient ascent. Entropy is added overall\n",
    "        actor_loss = -clip_loss + self.entropy*entropy\n",
    "\n",
    "        #For Critic\n",
    "        v_vals_s = tf.squeeze(v_vals_s)\n",
    "        #Critic loss is mean(r-v)^2\n",
    "        critic_loss = tf.math.reduce_mean(tf.math.square(rtg - v_vals_s))  \n",
    "        \n",
    "        return actor_loss, critic_loss"
   ]
  },
  {
   "cell_type": "code",
   "execution_count": 37,
   "id": "e54ba1bf",
   "metadata": {},
   "outputs": [],
   "source": [
    "def new_state(state):\n",
    "    \"\"\"\n",
    "    Function to generate new state\n",
    "    Following Zhengxia's implementation\n",
    "    \"\"\"\n",
    "    L = 7\n",
    "    scale = 1\n",
    "    PI = 3.1415927410125732\n",
    "    x = state*scale\n",
    "    h = [x]\n",
    "    for i in range(L):\n",
    "        x_sin = tf.math.sin(2**i * PI * x)\n",
    "        x_cos = tf.math.cos(2**i * PI * x)\n",
    "        h.append(x_sin)\n",
    "        h.append(x_cos)\n",
    "    return tf.concat(h, axis=-1)/scale\n",
    "\n",
    "new_obs_N = obs_N*(7*2+1)"
   ]
  },
  {
   "cell_type": "code",
   "execution_count": 53,
   "id": "7425e621",
   "metadata": {},
   "outputs": [],
   "source": [
    "#Removing time dimension\n",
    "agent = PPOClipAgent(new_obs_N, act_N, lr=1e-3, gamma=0.99, lmbda=0.97, entropy=5e-3)"
   ]
  },
  {
   "cell_type": "code",
   "execution_count": 54,
   "id": "5f4f0cba",
   "metadata": {},
   "outputs": [
    {
     "data": {
      "text/plain": [
       "<tensorflow.python.checkpoint.checkpoint.CheckpointLoadStatus at 0x7f49a4866c10>"
      ]
     },
     "execution_count": 54,
     "metadata": {},
     "output_type": "execute_result"
    }
   ],
   "source": [
    "#If you want to load the weight\n",
    "agent.actor_critic.load_weights(\"./models/actor_critic_{}_best\".format(task))"
   ]
  },
  {
   "cell_type": "markdown",
   "id": "68ef84c6",
   "metadata": {},
   "source": [
    "## Buffer"
   ]
  },
  {
   "cell_type": "code",
   "execution_count": 55,
   "id": "27675571",
   "metadata": {},
   "outputs": [],
   "source": [
    "class CUSTBuffer:\n",
    "    def __init__(self):\n",
    "        \"\"\"\n",
    "        Stores everything in a big array\n",
    "        But can separate out into batches\n",
    "        \"\"\"\n",
    "        self.create_buffers()\n",
    "    \n",
    "    def store(self, s, a, r, next_s, done, probs):\n",
    "        \"\"\"\n",
    "        Store into the big array\n",
    "        \"\"\"\n",
    "        self.s_buff.append(s)\n",
    "        self.a_buff.append(a)\n",
    "        self.r_buff.append(r)\n",
    "        self.next_s_buff.append(next_s)\n",
    "        self.done_buff.append(done)\n",
    "        self.probs_buff.append(probs)\n",
    "        \n",
    "    def store_indexes(self, length):\n",
    "        \"\"\"\n",
    "        Stores the start index of next batch\n",
    "        \"\"\"\n",
    "        self.indexes.append(self.indexes[-1]+length+1)\n",
    "    \n",
    "    def get_batch(self, index):\n",
    "        \"\"\"\n",
    "        Get data from batch number index\n",
    "        \"\"\"\n",
    "        start_index = self.indexes[index]\n",
    "        end_index = self.indexes[index+1]\n",
    "        s = np.array(self.s_buff[start_index:end_index])\n",
    "        a = np.array(self.a_buff[start_index:end_index])\n",
    "        r = np.array(self.r_buff[start_index:end_index])\n",
    "        next_s = np.array(self.next_s_buff[start_index:end_index])\n",
    "        done = np.array(self.done_buff[start_index:end_index])\n",
    "        probs = np.array(self.probs_buff[start_index:end_index])\n",
    "        return s, a, r, next_s, done, probs, start_index, end_index\n",
    "    \n",
    "    def get_full_data(self):\n",
    "        \"\"\"\n",
    "        Returns all the data\n",
    "        \"\"\"\n",
    "        s = np.array(self.s_buff)\n",
    "        a = np.array(self.a_buff)\n",
    "        r = np.array(self.r_buff)\n",
    "        next_s = np.array(self.next_s_buff)\n",
    "        done = np.array(self.done_buff)\n",
    "        probs = np.array(self.probs_buff)\n",
    "        return s, a, r, next_s, done, probs\n",
    "\n",
    "    def max_length(self):\n",
    "        return len(self.r_buff)\n",
    "    \n",
    "    def create_buffers(self):\n",
    "        \"\"\"\n",
    "        Creates new buffer lists\n",
    "        \"\"\"\n",
    "        self.s_buff = []\n",
    "        self.a_buff = []\n",
    "        self.r_buff = []\n",
    "        self.next_s_buff = []\n",
    "        self.done_buff = []\n",
    "        self.probs_buff = []\n",
    "        #Always batch+1 length\n",
    "        self.indexes = [0]"
   ]
  },
  {
   "cell_type": "code",
   "execution_count": 56,
   "id": "f36b69db",
   "metadata": {},
   "outputs": [],
   "source": [
    "buffer = CUSTBuffer()"
   ]
  },
  {
   "cell_type": "markdown",
   "id": "ebad3278",
   "metadata": {},
   "source": [
    "## Sample Generation"
   ]
  },
  {
   "cell_type": "code",
   "execution_count": 57,
   "id": "aad646a4",
   "metadata": {},
   "outputs": [],
   "source": [
    "def generate_samples(env, agent, buffer):\n",
    "    \"\"\"\n",
    "    Runs the environment and stores in buffer\n",
    "    \n",
    "    \"\"\"\n",
    "    s = new_state(env.reset()) #Removing time dimension\n",
    "    cum_rew = 0\n",
    "    for t in range(env.max_steps):\n",
    "        #Get action\n",
    "        a, a_prob = agent.get_action(s)\n",
    "        #Step env forward\n",
    "        next_s, r, done, info = env.step(a)\n",
    "        next_s = new_state(next_s) #Removing time dimension\n",
    "        #Batch collect samples\n",
    "        buffer.store(s, a, r, next_s, done, a_prob)\n",
    "        #Set next state\n",
    "        s = next_s\n",
    "        cum_rew += r\n",
    "        #If complete break out of current episode\n",
    "        if done:\n",
    "            break\n",
    "    #Add length to buffer\n",
    "    buffer.store_indexes(t)\n",
    "    #Return total reward\n",
    "    return cum_rew"
   ]
  },
  {
   "cell_type": "markdown",
   "id": "98879663",
   "metadata": {},
   "source": [
    "## Training"
   ]
  },
  {
   "cell_type": "code",
   "execution_count": 58,
   "id": "3969e33f",
   "metadata": {},
   "outputs": [],
   "source": [
    "#Reset final layers\n",
    "def reset_layer_weights(layer):\n",
    "    kernel_init = tf.keras.initializers.GlorotUniform(np.random.randint(100))\n",
    "    bias_init = tf.keras.initializers.GlorotUniform(np.random.randint(100))\n",
    "    \n",
    "    layer.kernel.assign(kernel_init(layer.kernel.shape))\n",
    "    layer.bias.assign(bias_init(layer.bias.shape))"
   ]
  },
  {
   "cell_type": "code",
   "execution_count": 59,
   "id": "16fe790b",
   "metadata": {},
   "outputs": [],
   "source": [
    "reset_layer_weights(agent.actor_critic.get_layer('Afc3'))"
   ]
  },
  {
   "cell_type": "code",
   "execution_count": 60,
   "id": "9abec78c",
   "metadata": {
    "scrolled": false
   },
   "outputs": [
    {
     "data": {
      "image/png": "[encoded data removed]",
      "text/plain": [
       "<Figure size 640x480 with 3 Axes>"
      ]
     },
     "metadata": {},
     "output_type": "display_data"
    },
    {
     "name": "stdout",
     "output_type": "stream",
     "text": [
      "Stopped: Iteration: 129, Reward: 1120.4670352245507\n"
     ]
    }
   ],
   "source": [
    "num_iters = 10000 #Training iterations\n",
    "num_epochs = 30    #Number of gradient steps\n",
    "num_eps = 10       #Number of episodes to run\n",
    "train_rewards = []\n",
    "actor_losses = []\n",
    "critic_losses = []\n",
    "try:\n",
    "    for it in range(num_iters):\n",
    "        #Clear buffer first, this is necessary since we have on-policy algorithm\n",
    "        buffer.create_buffers()\n",
    "\n",
    "        #Run num_eps times\n",
    "        cum_rew = 0\n",
    "        for ep in range(num_eps):\n",
    "            cum_rew += generate_samples(env, agent, buffer)\n",
    "\n",
    "        #Get necessary data\n",
    "        max_len = buffer.max_length()\n",
    "        rtg = np.zeros(max_len)\n",
    "        adv = np.zeros(max_len)\n",
    "        for ep in range(num_eps):\n",
    "            s, a, r, ns, done, _, si, ei = buffer.get_batch(ep)\n",
    "            rtg[si:ei] = agent.get_rtg(r)\n",
    "            adv[si:ei] = agent.get_gae(s, r, ns, done)\n",
    "        #On the full set of data\n",
    "        s, a, r, ns, done, probs = buffer.get_full_data()\n",
    "        #Advantage normalization on full data\n",
    "        adv = (adv-adv.mean())/(adv.std()+1e-9)\n",
    "\n",
    "        #Train agent\n",
    "        a_loss_mean = 0\n",
    "        c_loss_mean = 0    \n",
    "        for epoch in range(num_epochs):\n",
    "            a_loss, c_loss = agent.train_step(s, a, probs, rtg, adv)\n",
    "            a_loss_mean += a_loss\n",
    "            c_loss_mean += c_loss        \n",
    "        #Utilities\n",
    "        train_rewards.append(cum_rew/num_eps)\n",
    "        actor_losses.append(a_loss_mean/num_epochs)\n",
    "        critic_losses.append(c_loss_mean/num_epochs)\n",
    "        clear_output(True)\n",
    "        plt.subplot(3, 1, 1)\n",
    "        plt.title(\"rewards\")\n",
    "        plt.plot(train_rewards)\n",
    "        plt.plot(utils.moving_avg(train_rewards, N=10))\n",
    "        plt.grid()\n",
    "        plt.subplot(3, 1, 2)\n",
    "        plt.title(\"ac loss\")\n",
    "        plt.plot(actor_losses)\n",
    "        plt.plot(utils.moving_avg(actor_losses, N=10))\n",
    "        plt.grid()\n",
    "        plt.subplot(3, 1, 3)\n",
    "        plt.title(\"cr loss\")\n",
    "        plt.plot(critic_losses)\n",
    "        plt.plot(utils.moving_avg(critic_losses, N=10))\n",
    "        plt.grid()\n",
    "        plt.show()\n",
    "        print('Iteration: {}, Reward: {}'.format(it, cum_rew/num_eps))\n",
    "\n",
    "        with tf_writer.as_default():\n",
    "            tf.summary.scalar('reward', cum_rew/num_eps, step = it)\n",
    "            tf.summary.scalar('actor loss', a_loss_mean/num_epochs, step = it)\n",
    "            tf.summary.scalar('critic loss', c_loss_mean/num_epochs, step = it)\n",
    "\n",
    "except KeyboardInterrupt:\n",
    "    clear_output(True)\n",
    "    plt.subplot(3, 1, 1)\n",
    "    plt.title(\"rewards\")\n",
    "    plt.plot(train_rewards)\n",
    "    plt.plot(utils.moving_avg(train_rewards, N=10))\n",
    "    plt.grid()\n",
    "    plt.subplot(3, 1, 2)\n",
    "    plt.title(\"ac loss\")\n",
    "    plt.plot(actor_losses)\n",
    "    plt.plot(utils.moving_avg(actor_losses, N=10))\n",
    "    plt.grid()\n",
    "    plt.subplot(3, 1, 3)\n",
    "    plt.title(\"cr loss\")\n",
    "    plt.plot(critic_losses)\n",
    "    plt.plot(utils.moving_avg(critic_losses, N=10))\n",
    "    plt.grid()\n",
    "    plt.show()\n",
    "    print('Stopped: Iteration: {}, Reward: {}'.format(it, cum_rew/num_eps))\n",
    "\n",
    "    with tf_writer.as_default():\n",
    "        tf.summary.scalar('reward', cum_rew/num_eps, step = it)\n",
    "        tf.summary.scalar('actor loss', a_loss_mean/num_epochs, step = it)\n",
    "        tf.summary.scalar('critic loss', c_loss_mean/num_epochs, step = it)\n",
    "   "
   ]
  },
  {
   "cell_type": "markdown",
   "id": "1fd4fdbe",
   "metadata": {},
   "source": [
    "## Evaluation"
   ]
  },
  {
   "cell_type": "code",
   "execution_count": 67,
   "id": "ce666a49",
   "metadata": {
    "scrolled": true
   },
   "outputs": [
    {
     "name": "stdout",
     "output_type": "stream",
     "text": [
      "Total Reward: 1405.463171214295\n"
     ]
    }
   ],
   "source": [
    "task = 'landing'\n",
    "num_steps = 800 #Environment steps\n",
    "env = Rocket(task=task, max_steps=num_steps, rocket_type='starship')\n",
    "# agent.actor_critic.load_weights(\"./models/actor_critic_{}_best\".format(task))\n",
    "video_name = 'video{}.mp4'.format(task)\n",
    "s = env.reset()\n",
    "frame_0, frame_1 = env.render()\n",
    "height, width, layers = frame_0.shape\n",
    "fourcc = cv2.VideoWriter_fourcc(*'mp4v')\n",
    "video = cv2.VideoWriter(video_name, fourcc, 60, (width,height))\n",
    "\n",
    "cum_reward = 0\n",
    "for t in range(num_steps):\n",
    "    a = agent.get_bestaction(new_state(s))\n",
    "    s, r, done, _= env.step(a)\n",
    "    cum_reward += r\n",
    "    frame_0, frame_1 = env.render()\n",
    "    cv2.imshow('fr', frame_0[:,:,::-1])\n",
    "    video.write(frame_0[:,:,::-1])\n",
    "    cv2.waitKey(1)\n",
    "    cv2.imshow('fr', frame_1[:,:,::-1])\n",
    "    video.write(frame_1[:,:,::-1])\n",
    "    cv2.waitKey(1)\n",
    "    if done:\n",
    "        break\n",
    "    if env.already_crash:\n",
    "        break\n",
    "video.release()\n",
    "clear_output()\n",
    "print(\"Total Reward: {}\".format(cum_reward))"
   ]
  },
  {
   "cell_type": "code",
   "execution_count": null,
   "id": "f965b7c2",
   "metadata": {},
   "outputs": [],
   "source": [
    "from IPython.display import HTML\n",
    "from base64 import b64encode\n",
    "mp4 = open('video.avi','rb').read()\n",
    "data_url = \"data:video/mp4;base64,\" + b64encode(mp4).decode()\n",
    "HTML(\"\"\"\n",
    "<video width=400 controls>\n",
    "      <source src=\"%s\" type=\"video/mp4\">\n",
    "</video>\n",
    "\"\"\" % data_url)"
   ]
  },
  {
   "cell_type": "code",
   "execution_count": 61,
   "id": "d060490a",
   "metadata": {},
   "outputs": [],
   "source": [
    "agent.actor_critic.save_weights(\"./models/actor_critic_{}_best\".format(task))"
   ]
  },
  {
   "cell_type": "code",
   "execution_count": null,
   "id": "191db176",
   "metadata": {},
   "outputs": [],
   "source": [
    "agent.entropy=1e-5"
   ]
  },
  {
   "cell_type": "code",
   "execution_count": null,
   "id": "27f895a4",
   "metadata": {},
   "outputs": [],
   "source": []
  }
 ],
 "metadata": {
  "kernelspec": {
   "display_name": "Python 3 (ipykernel)",
   "language": "python",
   "name": "python3"
  },
  "language_info": {
   "codemirror_mode": {
    "name": "ipython",
    "version": 3
   },
   "file_extension": ".py",
   "mimetype": "text/x-python",
   "name": "python",
   "nbconvert_exporter": "python",
   "pygments_lexer": "ipython3",
   "version": "3.11.5"
  }
 },
 "nbformat": 4,
 "nbformat_minor": 5
}
