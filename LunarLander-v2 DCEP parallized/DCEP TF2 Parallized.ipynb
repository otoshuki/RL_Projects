{
 "cells": [
  {
   "cell_type": "markdown",
   "metadata": {},
   "source": [
    "# Deep CrossEntropy Algorithm\n",
    "\n",
    "## Using TF2\n",
    "## Parallized sessions using JobLib\n",
    "## Tested on LunarLander-v2"
   ]
  },
  {
   "cell_type": "code",
   "execution_count": 1,
   "metadata": {},
   "outputs": [],
   "source": [
    "import numpy as np\n",
    "import matplotlib.pyplot as plt\n",
    "import gym\n",
    "from joblib import Parallel, delayed\n",
    "%matplotlib inline"
   ]
  },
  {
   "cell_type": "markdown",
   "metadata": {},
   "source": [
    "## Basic Idea\n",
    "#### 1. Create a DNN to approximate our policy\n",
    "#### 2. Run num_envs(say 8) number of sessions parallely\n",
    "#### 3. Run this parallel sessions n_sess times to get (num_envs*n_sess) number of sessions\n",
    "#### 4. Get the elite sessions by percentile and set up elite states and actions\n",
    "#### 5. Fit the network over these elite sessions for some number of epochs"
   ]
  },
  {
   "cell_type": "markdown",
   "metadata": {},
   "source": [
    "## Our Network\n",
    "#### This time on TF2 instead of sklearn"
   ]
  },
  {
   "cell_type": "code",
   "execution_count": 2,
   "metadata": {},
   "outputs": [],
   "source": [
    "import tensorflow as tf\n",
    "import tensorflow.keras as keras\n",
    "import tensorflow.keras.layers as L"
   ]
  },
  {
   "cell_type": "code",
   "execution_count": 3,
   "metadata": {},
   "outputs": [
    {
     "name": "stdout",
     "output_type": "stream",
     "text": [
      "Default GPU Device:/device:GPU:0\n"
     ]
    }
   ],
   "source": [
    "#Checking GPU Use\n",
    "if tf.test.gpu_device_name(): \n",
    "\n",
    "    print('Default GPU Device:{}'.format(tf.test.gpu_device_name()))"
   ]
  },
  {
   "cell_type": "code",
   "execution_count": 4,
   "metadata": {},
   "outputs": [],
   "source": [
    "#We need to first create our custom model class\n",
    "#This can be utilized for more complex networks\n",
    "\n",
    "class OurDNN(keras.Model):\n",
    "    def __init__(self, input_dim, output_dim):\n",
    "        super(OurDNN, self).__init__()\n",
    "        #Input layer\n",
    "        self.inp = L.InputLayer(input_dim)\n",
    "        #Hidden layers here - ReLu\n",
    "        self.hd1 = L.Dense(64, kernel_initializer='uniform', activation='relu')\n",
    "        self.hd2 = L.Dense(64, kernel_initializer='uniform', activation='relu')\n",
    "        #Output layer here - linear\n",
    "        self.out = L.Dense(output_dim, kernel_initializer='uniform')\n",
    "    \n",
    "    @tf.function\n",
    "    def call(self, input_data):\n",
    "        #Essentially feedforward your network\n",
    "        inp_fwd = self.inp(input_data)\n",
    "        hd1_fwd = self.hd1(inp_fwd)\n",
    "        hd2_fwd = self.hd2(hd1_fwd)\n",
    "        out_fwd = self.out(hd2_fwd)\n",
    "        #Get the output\n",
    "        return out_fwd        "
   ]
  },
  {
   "cell_type": "markdown",
   "metadata": {},
   "source": [
    "## Our Agent"
   ]
  },
  {
   "cell_type": "code",
   "execution_count": 5,
   "metadata": {},
   "outputs": [],
   "source": [
    "class OurAgent:\n",
    "    \n",
    "    def __init__(self, envs, lr=1e-3, gamma=0.99, load=None, load_name=\"./models/tf2_dcep\"):\n",
    "        self.envs = envs\n",
    "        self.state_dim = envs[0].observation_space.shape\n",
    "        self.n_actions = envs[0].action_space.n\n",
    "        self.gamma = gamma\n",
    "        self.optimizer = keras.optimizers.Adam(lr)\n",
    "        self.num_envs = len(envs)\n",
    "        self.load_name = load_name\n",
    "        self.loss = keras.losses.SparseCategoricalCrossentropy(from_logits=True)\n",
    "        \n",
    "        if load:\n",
    "            self.network = keras.models.load_model(load_name)\n",
    "            self.network.summary()\n",
    "            print(\"Network loaded\")\n",
    "        else:\n",
    "            self.network = OurDNN(self.state_dim, self.n_actions)\n",
    "            self.network.compile(self.optimizer, loss=self.loss)\n",
    "            print(\"Network created\")\n",
    "    \n",
    "    def get_action(self, state):\n",
    "        '''\n",
    "        Get the sampled action using the current network\n",
    "        '''\n",
    "        preds = self.network(state).numpy()\n",
    "        action_probs = tf.nn.softmax(preds)\n",
    "        return np.random.choice(self.n_actions, p=action_probs[0].numpy())\n",
    "    \n",
    "#     def select_elites(self, states_batch, actions_batch, rewards_batch, percentile=50):\n",
    "#         '''\n",
    "#         Select the elite states and actions\n",
    "#         '''\n",
    "#         reward_thresh = np.percentile(rewards_batch, percentile)\n",
    "#         #Convert first to numpy array\n",
    "#         rewards_batch = np.array(rewards_batch)\n",
    "#         #Elite sessions are where rewards > thresh\n",
    "#         elite_states = states_batch[rewards_batch > reward_thresh]\n",
    "#         elite_actions = actions_batch[rewards_batch > reward_thresh]\n",
    "#         return elite_states, elite_actions\n",
    "    \n",
    "    def select_elites(self, states_batch,actions_batch,rewards_batch,percentile=50):\n",
    "        #Set threshold based on percentile\n",
    "        reward_threshold = np.percentile(rewards_batch,percentile)\n",
    "        elite_states = []\n",
    "        elite_actions = []\n",
    "        #For each session\n",
    "        for session in range(len(rewards_batch)):\n",
    "            #Select sessions with rewards>=threshold\n",
    "            if rewards_batch[session] >= reward_threshold:\n",
    "                for state in range(len(states_batch[session])):\n",
    "                    elite_states.append(states_batch[session][state])\n",
    "                    elite_actions.append(actions_batch[session][state])\n",
    "        return elite_states, elite_actions \n",
    "    \n",
    "    def fit(self, states_batch, actions_batch, rewards_batch, epochs, percentile):\n",
    "        '''\n",
    "        Get the elites and fit the network over it\n",
    "        '''\n",
    "        #Get elites\n",
    "        elite_s, elite_a = self.select_elites(states_batch, actions_batch, rewards_batch, percentile)\n",
    "        self.network.fit(np.array(elite_s), np.array(elite_a), epochs=epochs)\n",
    "    \n",
    "    def save(self):\n",
    "        self.network.save(self.load_name, save_format=\"tf\")"
   ]
  },
  {
   "cell_type": "markdown",
   "metadata": {},
   "source": [
    "## Tunable parameters"
   ]
  },
  {
   "cell_type": "code",
   "execution_count": 16,
   "metadata": {},
   "outputs": [],
   "source": [
    "lr = 1e-3 #Learning rate\n",
    "num_envs = 8 #Number of parallel environments\n",
    "n_sess = 5 #Number of times parallel environments will be run\n",
    "epochs = 5 #Number of epochs the network will fit over elites\n",
    "percentile = 50 #Cutoff for elite sessions\n",
    "iter_num = 100 #Number of agent.fit iterations\n",
    "\n",
    "env_name = \"LunarLander-v2\" #Environment to train on"
   ]
  },
  {
   "cell_type": "markdown",
   "metadata": {},
   "source": [
    "## Create parallel environments"
   ]
  },
  {
   "cell_type": "code",
   "execution_count": 7,
   "metadata": {},
   "outputs": [],
   "source": [
    "envs = [gym.make(env_name).env for i in range(num_envs)]"
   ]
  },
  {
   "cell_type": "markdown",
   "metadata": {},
   "source": [
    "## Create agent"
   ]
  },
  {
   "cell_type": "code",
   "execution_count": 8,
   "metadata": {},
   "outputs": [
    {
     "name": "stdout",
     "output_type": "stream",
     "text": [
      "Network created\n"
     ]
    }
   ],
   "source": [
    "agent = OurAgent(envs, lr)"
   ]
  },
  {
   "cell_type": "markdown",
   "metadata": {},
   "source": [
    "## Sessions"
   ]
  },
  {
   "cell_type": "code",
   "execution_count": 9,
   "metadata": {},
   "outputs": [],
   "source": [
    "def generate_session(agent, index, t_max=1000):\n",
    "    '''\n",
    "    Play a single game for the agent with given env index\n",
    "    '''\n",
    "    states, actions = [], []\n",
    "    total_reward = 0\n",
    "    \n",
    "    env = agent.envs[index]\n",
    "    s = env.reset()\n",
    "    for t in range(t_max):\n",
    "        #Get agent action for given state\n",
    "        s = s.astype(np.float32)\n",
    "        a = agent.get_action(s[None])\n",
    "        new_s, r, done, _ = env.step(a)\n",
    "        \n",
    "        states.append(s)\n",
    "        actions.append(a)\n",
    "        \n",
    "        total_reward += r\n",
    "        \n",
    "        s = new_s\n",
    "        if done:\n",
    "            break\n",
    "    return np.array(states), np.array(actions).astype('int32'), total_reward"
   ]
  },
  {
   "cell_type": "code",
   "execution_count": 10,
   "metadata": {},
   "outputs": [],
   "source": [
    "def run_parallel_sessions(agent, num_envs, n_sess):\n",
    "    '''\n",
    "    Run num_envs parallel sessions for n_sess times\n",
    "    '''\n",
    "    complete_set = []\n",
    "    for i in range(n_sess):\n",
    "        sessions = np.array(Parallel(n_jobs=num_envs, prefer=\"threads\")\n",
    "                            (delayed(generate_session)(agent, index) for index in range(num_envs)))\n",
    "        complete_set.append(sessions)\n",
    "    #Reshape to get a full set of num_envs*n_sess batch\n",
    "    #3 for states, actions and rewards\n",
    "    complete_set = np.array(complete_set).reshape(num_envs*n_sess,3)\n",
    "    return complete_set"
   ]
  },
  {
   "cell_type": "markdown",
   "metadata": {},
   "source": [
    "## Train"
   ]
  },
  {
   "cell_type": "code",
   "execution_count": 11,
   "metadata": {},
   "outputs": [],
   "source": [
    "rewards_log = []"
   ]
  },
  {
   "cell_type": "code",
   "execution_count": 17,
   "metadata": {
    "scrolled": false
   },
   "outputs": [
    {
     "name": "stdout",
     "output_type": "stream",
     "text": [
      "Stopped\n",
      "mean reward: 30.946 at iter: 3\n"
     ]
    },
    {
     "data": {
      "image/png": "[encoded data removed]",
      "text/plain": [
       "<Figure size 432x288 with 1 Axes>"
      ]
     },
     "metadata": {
      "needs_background": "light"
     },
     "output_type": "display_data"
    },
    {
     "name": "stdout",
     "output_type": "stream",
     "text": [
      "INFO:tensorflow:Assets written to: ./models/tf2_dcep/assets\n"
     ]
    }
   ],
   "source": [
    "from IPython.display import clear_output\n",
    "max_reward = -1000\n",
    "try:\n",
    "    for iter in range(iter_num):\n",
    "        sessions = run_parallel_sessions(agent, num_envs, n_sess)\n",
    "        agent.fit(sessions[:,0],sessions[:,1],sessions[:,2],epochs, percentile)\n",
    "        mean_reward = np.mean(sessions[:,2])\n",
    "        rewards_log.append(mean_reward)\n",
    "        clear_output(True)\n",
    "        print(\"mean reward: %.3f at iter:\" %(mean_reward), iter+1)\n",
    "        plt.plot(rewards_log)\n",
    "        plt.show()\n",
    "        if mean_reward > max_reward:\n",
    "            max_reward = mean_reward\n",
    "            agent.save()\n",
    "        if mean_reward > 200:\n",
    "            print(\"Yamerou!\")\n",
    "        \n",
    "except KeyboardInterrupt:\n",
    "    clear_output(True)\n",
    "    print(\"Stopped\")\n",
    "    print(\"mean reward: %.3f at iter:\" % (mean_reward), iter+1)\n",
    "    plt.plot(rewards_log)\n",
    "    plt.show()\n",
    "    agent.save()"
   ]
  },
  {
   "cell_type": "markdown",
   "metadata": {},
   "source": [
    "## Enjoy!"
   ]
  },
  {
   "cell_type": "code",
   "execution_count": 18,
   "metadata": {
    "scrolled": true
   },
   "outputs": [],
   "source": [
    "# Record sessions\n",
    "import gym.wrappers\n",
    "\n",
    "with gym.wrappers.Monitor(gym.make(env_name), directory=\"videos\", force=True) as env_monitor:\n",
    "    agent.envs[0] = env_monitor\n",
    "    sessions = [generate_session(agent, 0) for _ in range(100)]"
   ]
  },
  {
   "cell_type": "code",
   "execution_count": 19,
   "metadata": {},
   "outputs": [
    {
     "data": {
      "text/html": [
       "\n",
       "<video width=\"640\" height=\"480\" controls>\n",
       "  <source src=\"videos/openaigym.video.0.32473.video000064.mp4\" type=\"video/mp4\">\n",
       "</video>\n"
      ],
      "text/plain": [
       "<IPython.core.display.HTML object>"
      ]
     },
     "execution_count": 19,
     "metadata": {},
     "output_type": "execute_result"
    }
   ],
   "source": [
    "# Show video. This may not work in some setups. If it doesn't\n",
    "# work for you, you can download the videos and view them locally.\n",
    "\n",
    "from pathlib import Path\n",
    "from IPython.display import HTML\n",
    "\n",
    "video_names = sorted([s for s in Path('videos').iterdir() if s.suffix == '.mp4'])\n",
    "\n",
    "HTML(\"\"\"\n",
    "<video width=\"640\" height=\"480\" controls>\n",
    "  <source src=\"{}\" type=\"video/mp4\">\n",
    "</video>\n",
    "\"\"\".format(video_names[-1]))  # You can also try other indices"
   ]
  },
  {
   "cell_type": "code",
   "execution_count": null,
   "metadata": {},
   "outputs": [],
   "source": []
  },
  {
   "cell_type": "code",
   "execution_count": null,
   "metadata": {},
   "outputs": [],
   "source": []
  },
  {
   "cell_type": "code",
   "execution_count": null,
   "metadata": {},
   "outputs": [],
   "source": []
  }
 ],
 "metadata": {
  "kernelspec": {
   "display_name": "Python 3",
   "language": "python",
   "name": "python3"
  },
  "language_info": {
   "codemirror_mode": {
    "name": "ipython",
    "version": 3
   },
   "file_extension": ".py",
   "mimetype": "text/x-python",
   "name": "python",
   "nbconvert_exporter": "python",
   "pygments_lexer": "ipython3",
   "version": "3.7.7"
  }
 },
 "nbformat": 4,
 "nbformat_minor": 4
}
