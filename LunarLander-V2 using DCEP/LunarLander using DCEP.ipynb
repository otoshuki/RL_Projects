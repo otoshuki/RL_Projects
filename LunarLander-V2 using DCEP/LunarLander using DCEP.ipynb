{
 "cells": [
  {
   "cell_type": "code",
   "execution_count": 1,
   "metadata": {},
   "outputs": [],
   "source": [
    "import numpy as np\n",
    "import matplotlib.pyplot as plt\n",
    "import gym\n",
    "%matplotlib inline"
   ]
  },
  {
   "cell_type": "code",
   "execution_count": 2,
   "metadata": {},
   "outputs": [
    {
     "name": "stdout",
     "output_type": "stream",
     "text": [
      "Observation space: Box(8,)\n",
      "Action space: Discrete(4)\n",
      "n_actions: 4\n"
     ]
    }
   ],
   "source": [
    "env = gym.make(\"LunarLander-v2\")\n",
    "env.reset()\n",
    "env.render()\n",
    "\n",
    "print(\"Observation space:\", env.observation_space)\n",
    "print(\"Action space:\", env.action_space)\n",
    "print(\"n_actions:\", env.action_space.n)\n",
    "n_actions = env.action_space.n\n",
    "\n",
    "#Display\n",
    "#plt.imshow(env.render('rgb_array'))\n"
   ]
  },
  {
   "cell_type": "markdown",
   "metadata": {},
   "source": [
    "# Deep Crossentropy Method\n",
    "\n",
    "* Intialize an MLP Policy with random weights\n",
    "* Sample 100 sessions\n",
    "* Pick elite sessions\n",
    "* Fit the MLP Policy over elite sessions"
   ]
  },
  {
   "cell_type": "code",
   "execution_count": 3,
   "metadata": {},
   "outputs": [
    {
     "name": "stdout",
     "output_type": "stream",
     "text": [
      "[array([-0.00417595,  1.4076384 , -0.42300668, -0.14585546,  0.00484579,\n",
      "        0.09581725,  0.        ,  0.        ], dtype=float32), array([-0.00417595,  1.4076384 , -0.42300668, -0.14585546,  0.00484579,\n",
      "        0.09581725,  0.        ,  0.        ], dtype=float32), array([-0.00417595,  1.4076384 , -0.42300668, -0.14585546,  0.00484579,\n",
      "        0.09581725,  0.        ,  0.        ], dtype=float32), array([-0.00417595,  1.4076384 , -0.42300668, -0.14585546,  0.00484579,\n",
      "        0.09581725,  0.        ,  0.        ], dtype=float32)] [0, 1, 2, 3]\n",
      "[array([ 0.00666485,  1.4167541 ,  0.6750573 ,  0.25927207, -0.00771606,\n",
      "       -0.1529105 ,  0.        ,  0.        ], dtype=float32), array([ 0.00666485,  1.4167541 ,  0.6750573 ,  0.25927207, -0.00771606,\n",
      "       -0.1529105 ,  0.        ,  0.        ], dtype=float32), array([ 0.00666485,  1.4167541 ,  0.6750573 ,  0.25927207, -0.00771606,\n",
      "       -0.1529105 ,  0.        ,  0.        ], dtype=float32), array([ 0.00666485,  1.4167541 ,  0.6750573 ,  0.25927207, -0.00771606,\n",
      "       -0.1529105 ,  0.        ,  0.        ], dtype=float32)]\n"
     ]
    },
    {
     "name": "stderr",
     "output_type": "stream",
     "text": [
      "/home/otoshuki/anaconda3/envs/tf2-gpu/lib/python3.7/site-packages/sklearn/neural_network/_multilayer_perceptron.py:585: ConvergenceWarning: Stochastic Optimizer: Maximum iterations (1) reached and the optimization hasn't converged yet.\n",
      "  % self.max_iter, ConvergenceWarning)\n"
     ]
    }
   ],
   "source": [
    "#Create MLP agent/policy\n",
    "from sklearn.neural_network import MLPClassifier\n",
    "# from sklearn.externals import joblib\n",
    "agent = MLPClassifier(hidden_layer_sizes=(20,20), activation = 'tanh',\n",
    "                     warm_start=True,max_iter=1)\n",
    "#Initialize policy\n",
    "print([env.reset()]*n_actions, list(range(n_actions)))\n",
    "agent.fit([env.reset()]*n_actions, list(range(n_actions)));\n",
    "print([env.reset()]*n_actions)"
   ]
  },
  {
   "cell_type": "code",
   "execution_count": 4,
   "metadata": {},
   "outputs": [],
   "source": [
    "\"\"\"Comment these to use env.render()\"\"\"\n",
    "# %matplotlib notebook\n",
    "# fig = plt.figure()\n",
    "# ax = fig.add_subplot(111)\n",
    "#Generate play sessions\n",
    "def generate_session(t_max = 10000):\n",
    "    states, actions = [], []\n",
    "    total_reward = 0\n",
    "    s = env.reset()\n",
    "    for t in range(t_max):\n",
    "        #Action probabilities in current state\n",
    "        probs = agent.predict_proba([s])[0]\n",
    "        #Select a random action with probs bias\n",
    "        a = np.random.choice(n_actions, p = probs)\n",
    "        new_s, r, done, info = env.step(a)\n",
    "        \n",
    "        #Record sessions\n",
    "        states.append(s)\n",
    "        actions.append(a)\n",
    "        total_reward += r\n",
    "#         ax.clear()\n",
    "#         ax.imshow(env.render('rgb_array'))\n",
    "#         fig.canvas.draw()\n",
    "        #This one ia faster\n",
    "        #env.render()\n",
    "        #Set the new state\n",
    "        s = new_s\n",
    "        if done: break\n",
    "    return states, actions, total_reward     \n",
    "        "
   ]
  },
  {
   "cell_type": "code",
   "execution_count": 5,
   "metadata": {},
   "outputs": [],
   "source": [
    "#Select Elite Sessions\n",
    "def select_elites(states_batch,actions_batch,rewards_batch,percentile=50):\n",
    "    #Set threshold based on percentile\n",
    "    reward_threshold = np.percentile(rewards_batch,percentile)\n",
    "    elite_states = []\n",
    "    elite_actions = []\n",
    "    #For each session\n",
    "    for session in range(len(rewards_batch)):\n",
    "        #Select sessions with rewards>=threshold\n",
    "        if rewards_batch[session] >= reward_threshold:\n",
    "            for state in range(len(states_batch[session])):\n",
    "                elite_states.append(states_batch[session][state])\n",
    "                elite_actions.append(actions_batch[session][state])\n",
    "    return elite_states, elite_actions"
   ]
  },
  {
   "cell_type": "code",
   "execution_count": 6,
   "metadata": {},
   "outputs": [],
   "source": [
    "from IPython.display import clear_output\n",
    "#To display current progress\n",
    "def show_progress(batch_rewards, log, percentile, reward_range=[-990,+10]):\n",
    "    \n",
    "    mean_reward, threshold = np.mean(batch_rewards), np.percentile(batch_rewards, percentile)\n",
    "    log.append([mean_reward, threshold])\n",
    "\n",
    "    clear_output(True)\n",
    "    print(\"mean reward = %.3f, threshold=%.3f\"%(mean_reward, threshold))\n",
    "    plt.figure(figsize=[8,4])\n",
    "    plt.subplot(1,2,1)\n",
    "    plt.plot(list(zip(*log))[0], label='Mean rewards')\n",
    "    plt.plot(list(zip(*log))[1], label='Reward thresholds')\n",
    "    plt.legend()\n",
    "    plt.grid()\n",
    "    \n",
    "    plt.subplot(1,2,2)\n",
    "    plt.hist(batch_rewards, range=reward_range);\n",
    "    plt.vlines([np.percentile(batch_rewards, percentile)], [0], [100], label=\"percentile\", color='red')\n",
    "    plt.legend()\n",
    "    plt.grid()\n",
    "\n",
    "    plt.show()"
   ]
  },
  {
   "cell_type": "code",
   "execution_count": null,
   "metadata": {
    "scrolled": false
   },
   "outputs": [
    {
     "name": "stdout",
     "output_type": "stream",
     "text": [
      "mean reward = 17.537, threshold=36.098\n"
     ]
    },
    {
     "data": {
      "image/png": "[encoded data removed]",
      "text/plain": [
       "<Figure size 576x288 with 2 Axes>"
      ]
     },
     "metadata": {
      "needs_background": "light"
     },
     "output_type": "display_data"
    },
    {
     "name": "stdout",
     "output_type": "stream",
     "text": [
      "86\n"
     ]
    }
   ],
   "source": [
    "#Train\n",
    "n_sessions = 100\n",
    "percentile = 70\n",
    "log = []\n",
    "filename = 'saved_weight.sav'\n",
    "\n",
    "for iter in range(100):\n",
    "    print(iter)\n",
    "    sessions = [generate_session() for sess in range(n_sessions)]\n",
    "    batch_states, batch_actions, batch_rewards = map(np.array, zip(*sessions))\n",
    "    elite_states, elite_actions = select_elites(batch_states, batch_actions, batch_rewards, percentile)\n",
    "    #Fit agent\n",
    "    agent.fit(elite_states, elite_actions)\n",
    "#     joblib.dump(agent, filename)\n",
    "    #show_progress(batch_rewards, log, percentile, reward_range=[0,np.max(-1*batch_rewards)])\n",
    "    show_progress(batch_rewards, log, percentile, reward_range=[-500,np.max(batch_rewards)])\n",
    "    if np.mean(batch_rewards)> 50:\n",
    "        print(\"You Win! You may stop training now via KeyboardInterrupt.\")"
   ]
  },
  {
   "cell_type": "code",
   "execution_count": null,
   "metadata": {},
   "outputs": [],
   "source": [
    "#Load Models\n",
    "result = agent.score(elite_states, elite_actions)\n",
    "print(result)"
   ]
  },
  {
   "cell_type": "code",
   "execution_count": null,
   "metadata": {
    "scrolled": true
   },
   "outputs": [],
   "source": [
    "#Display final results\n",
    "fig = plt.figure()\n",
    "ax = fig.add_subplot(111)\n",
    "total_reward = 0\n",
    "s = env.reset()\n",
    "#env.render()\n",
    "for t in range(10000):\n",
    "    #Action probabilities in current state\n",
    "    probs = agent.predict_proba([s])[0]\n",
    "    #Select a random action with probs bias\n",
    "    a = np.random.choice(n_actions, p = probs)\n",
    "    new_s, r, done, info = env.step(a)\n",
    "    total_reward += r\n",
    "    ax.clear()\n",
    "    ax.imshow(env.render('rgb_array'))\n",
    "    fig.canvas.draw()\n",
    "    #Set the new state\n",
    "    s = new_s\n",
    "    if done: break\n",
    "print(total_reward)"
   ]
  },
  {
   "cell_type": "code",
   "execution_count": null,
   "metadata": {
    "scrolled": true
   },
   "outputs": [],
   "source": []
  },
  {
   "cell_type": "code",
   "execution_count": null,
   "metadata": {},
   "outputs": [],
   "source": []
  },
  {
   "cell_type": "code",
   "execution_count": null,
   "metadata": {},
   "outputs": [],
   "source": []
  },
  {
   "cell_type": "code",
   "execution_count": null,
   "metadata": {},
   "outputs": [],
   "source": []
  },
  {
   "cell_type": "code",
   "execution_count": null,
   "metadata": {},
   "outputs": [],
   "source": []
  },
  {
   "cell_type": "code",
   "execution_count": null,
   "metadata": {},
   "outputs": [],
   "source": []
  }
 ],
 "metadata": {
  "kernelspec": {
   "display_name": "Python 3",
   "language": "python",
   "name": "python3"
  },
  "language_info": {
   "codemirror_mode": {
    "name": "ipython",
    "version": 3
   },
   "file_extension": ".py",
   "mimetype": "text/x-python",
   "name": "python",
   "nbconvert_exporter": "python",
   "pygments_lexer": "ipython3",
   "version": "3.7.7"
  }
 },
 "nbformat": 4,
 "nbformat_minor": 2
}
