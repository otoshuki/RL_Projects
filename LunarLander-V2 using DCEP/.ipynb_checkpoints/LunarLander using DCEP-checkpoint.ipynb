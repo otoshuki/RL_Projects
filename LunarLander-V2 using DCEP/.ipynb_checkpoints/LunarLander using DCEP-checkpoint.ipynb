{
 "cells": [
  {
   "cell_type": "code",
   "execution_count": 31,
   "metadata": {},
   "outputs": [],
   "source": [
    "import numpy as np\n",
    "import matplotlib.pyplot as plt\n",
    "import gym\n",
    "%matplotlib inline"
   ]
  },
  {
   "cell_type": "code",
   "execution_count": 2,
   "metadata": {},
   "outputs": [
    {
     "name": "stderr",
     "output_type": "stream",
     "text": [
      "/home/otoshuki/anaconda/envs/tensorflow/lib/python3.6/site-packages/gym/envs/registration.py:14: PkgResourcesDeprecationWarning: Parameters to load are deprecated.  Call .resolve and .require separately.\n",
      "  result = entry_point.load(False)\n"
     ]
    },
    {
     "name": "stdout",
     "output_type": "stream",
     "text": [
      "Observation space: Box(8,)\n",
      "Action space: Discrete(4)\n",
      "n_actions: 4\n"
     ]
    }
   ],
   "source": [
    "env = gym.make(\"LunarLander-v2\")\n",
    "env.reset()\n",
    "env.render()\n",
    "\n",
    "print(\"Observation space:\", env.observation_space)\n",
    "print(\"Action space:\", env.action_space)\n",
    "print(\"n_actions:\", env.action_space.n)\n",
    "n_actions = env.action_space.n\n",
    "\n",
    "#Display\n",
    "#plt.imshow(env.render('rgb_array'))\n"
   ]
  },
  {
   "cell_type": "markdown",
   "metadata": {},
   "source": [
    "# Deep Crossentropy Method\n",
    "\n",
    "* Intialize an MLP Policy with random weights\n",
    "* Sample 100 sessions\n",
    "* Pick elite sessions\n",
    "* Fit the MLP Policy over elite sessions"
   ]
  },
  {
   "cell_type": "code",
   "execution_count": 27,
   "metadata": {},
   "outputs": [
    {
     "name": "stdout",
     "output_type": "stream",
     "text": [
      "[array([-0.00730772,  1.414683  , -0.7402027 ,  0.16721195,  0.00847453,\n",
      "        0.16766672,  0.        ,  0.        ], dtype=float32), array([-0.00730772,  1.414683  , -0.7402027 ,  0.16721195,  0.00847453,\n",
      "        0.16766672,  0.        ,  0.        ], dtype=float32), array([-0.00730772,  1.414683  , -0.7402027 ,  0.16721195,  0.00847453,\n",
      "        0.16766672,  0.        ,  0.        ], dtype=float32), array([-0.00730772,  1.414683  , -0.7402027 ,  0.16721195,  0.00847453,\n",
      "        0.16766672,  0.        ,  0.        ], dtype=float32)] [0, 1, 2, 3]\n",
      "[array([ 1.3637543e-04,  1.3984706e+00,  1.3787670e-02, -5.5331796e-01,\n",
      "       -1.5112768e-04, -3.1230911e-03,  0.0000000e+00,  0.0000000e+00],\n",
      "      dtype=float32), array([ 1.3637543e-04,  1.3984706e+00,  1.3787670e-02, -5.5331796e-01,\n",
      "       -1.5112768e-04, -3.1230911e-03,  0.0000000e+00,  0.0000000e+00],\n",
      "      dtype=float32), array([ 1.3637543e-04,  1.3984706e+00,  1.3787670e-02, -5.5331796e-01,\n",
      "       -1.5112768e-04, -3.1230911e-03,  0.0000000e+00,  0.0000000e+00],\n",
      "      dtype=float32), array([ 1.3637543e-04,  1.3984706e+00,  1.3787670e-02, -5.5331796e-01,\n",
      "       -1.5112768e-04, -3.1230911e-03,  0.0000000e+00,  0.0000000e+00],\n",
      "      dtype=float32)]\n"
     ]
    },
    {
     "name": "stderr",
     "output_type": "stream",
     "text": [
      "/home/otoshuki/anaconda/envs/tensorflow/lib/python3.6/site-packages/sklearn/neural_network/multilayer_perceptron.py:563: ConvergenceWarning: Stochastic Optimizer: Maximum iterations reached and the optimization hasn't converged yet.\n",
      "  % (), ConvergenceWarning)\n"
     ]
    }
   ],
   "source": [
    "#Create MLP agent/policy\n",
    "from sklearn.neural_network import MLPClassifier\n",
    "from sklearn.externals import joblib\n",
    "agent = MLPClassifier(hidden_layer_sizes=(20,20), activation = 'tanh',\n",
    "                     warm_start=True,max_iter=1)\n",
    "#Initialize policy\n",
    "print([env.reset()]*n_actions, list(range(n_actions)))\n",
    "agent.fit([env.reset()]*n_actions, list(range(n_actions)));\n",
    "print([env.reset()]*n_actions)"
   ]
  },
  {
   "cell_type": "code",
   "execution_count": 24,
   "metadata": {},
   "outputs": [],
   "source": [
    "\"\"\"Comment these to use env.render()\"\"\"\n",
    "# %matplotlib notebook\n",
    "# fig = plt.figure()\n",
    "# ax = fig.add_subplot(111)\n",
    "#Generate play sessions\n",
    "def generate_session(t_max = 10000):\n",
    "    states, actions = [], []\n",
    "    total_reward = 0\n",
    "    s = env.reset()\n",
    "    for t in range(t_max):\n",
    "        #Action probabilities in current state\n",
    "        probs = agent.predict_proba([s])[0]\n",
    "        #Select a random action with probs bias\n",
    "        a = np.random.choice(n_actions, p = probs)\n",
    "        new_s, r, done, info = env.step(a)\n",
    "        \n",
    "        #Record sessions\n",
    "        states.append(s)\n",
    "        actions.append(a)\n",
    "        total_reward += r\n",
    "#         ax.clear()\n",
    "#         ax.imshow(env.render('rgb_array'))\n",
    "#         fig.canvas.draw()\n",
    "        #This one ia faster\n",
    "        #env.render()\n",
    "        #Set the new state\n",
    "        s = new_s\n",
    "        if done: break\n",
    "    return states, actions, total_reward     \n",
    "        "
   ]
  },
  {
   "cell_type": "code",
   "execution_count": 5,
   "metadata": {},
   "outputs": [],
   "source": [
    "#Select Elite Sessions\n",
    "def select_elites(states_batch,actions_batch,rewards_batch,percentile=50):\n",
    "    #Set threshold based on percentile\n",
    "    reward_threshold = np.percentile(rewards_batch,percentile)\n",
    "    elite_states = []\n",
    "    elite_actions = []\n",
    "    #For each session\n",
    "    for session in range(len(rewards_batch)):\n",
    "        #Select sessions with rewards>=threshold\n",
    "        if rewards_batch[session] >= reward_threshold:\n",
    "            for state in range(len(states_batch[session])):\n",
    "                elite_states.append(states_batch[session][state])\n",
    "                elite_actions.append(actions_batch[session][state])\n",
    "    return elite_states, elite_actions"
   ]
  },
  {
   "cell_type": "code",
   "execution_count": 6,
   "metadata": {},
   "outputs": [],
   "source": [
    "from IPython.display import clear_output\n",
    "#To display current progress\n",
    "def show_progress(batch_rewards, log, percentile, reward_range=[-990,+10]):\n",
    "    \n",
    "    mean_reward, threshold = np.mean(batch_rewards), np.percentile(batch_rewards, percentile)\n",
    "    log.append([mean_reward, threshold])\n",
    "\n",
    "    clear_output(True)\n",
    "    print(\"mean reward = %.3f, threshold=%.3f\"%(mean_reward, threshold))\n",
    "    plt.figure(figsize=[8,4])\n",
    "    plt.subplot(1,2,1)\n",
    "    plt.plot(list(zip(*log))[0], label='Mean rewards')\n",
    "    plt.plot(list(zip(*log))[1], label='Reward thresholds')\n",
    "    plt.legend()\n",
    "    plt.grid()\n",
    "    \n",
    "    plt.subplot(1,2,2)\n",
    "    plt.hist(batch_rewards, range=reward_range);\n",
    "    plt.vlines([np.percentile(batch_rewards, percentile)], [0], [100], label=\"percentile\", color='red')\n",
    "    plt.legend()\n",
    "    plt.grid()\n",
    "\n",
    "    plt.show()"
   ]
  },
  {
   "cell_type": "code",
   "execution_count": 28,
   "metadata": {
    "scrolled": true
   },
   "outputs": [
    {
     "name": "stdout",
     "output_type": "stream",
     "text": [
      "mean reward = 12.242, threshold=28.441\n"
     ]
    },
    {
     "data": {
      "image/png": "[encoded data removed]",
      "text/plain": [
       "<Figure size 576x288 with 2 Axes>"
      ]
     },
     "metadata": {},
     "output_type": "display_data"
    }
   ],
   "source": [
    "#Train\n",
    "n_sessions = 100\n",
    "percentile = 70\n",
    "log = []\n",
    "filename = 'saved_weight.sav'\n",
    "\n",
    "for iter in range(100):\n",
    "    print(iter)\n",
    "    sessions = [generate_session() for sess in range(n_sessions)]\n",
    "    batch_states, batch_actions, batch_rewards = map(np.array, zip(*sessions))\n",
    "    elite_states, elite_actions = select_elites(batch_states, batch_actions, batch_rewards, percentile)\n",
    "    #Fit agent\n",
    "    agent.fit(elite_states, elite_actions)\n",
    "    joblib.dump(agent, filename)\n",
    "    #show_progress(batch_rewards, log, percentile, reward_range=[0,np.max(-1*batch_rewards)])\n",
    "    show_progress(batch_rewards, log, percentile, reward_range=[-500,np.max(batch_rewards)])\n",
    "    if np.mean(batch_rewards)> 150:\n",
    "        print(\"You Win! You may stop training now via KeyboardInterrupt.\")"
   ]
  },
  {
   "cell_type": "code",
   "execution_count": 35,
   "metadata": {},
   "outputs": [
    {
     "name": "stdout",
     "output_type": "stream",
     "text": [
      "0.46660682226211847\n"
     ]
    }
   ],
   "source": [
    "#Load Models\n",
    "agent = joblib.load(filename)\n",
    "result = agent.score(elite_states, elite_actions)\n",
    "print(result)"
   ]
  },
  {
   "cell_type": "code",
   "execution_count": 38,
   "metadata": {
    "scrolled": true
   },
   "outputs": [
    {
     "name": "stdout",
     "output_type": "stream",
     "text": [
      "35.147247467320454\n"
     ]
    },
    {
     "data": {
      "image/png": "[encoded data removed]",
      "text/plain": [
       "<Figure size 432x288 with 1 Axes>"
      ]
     },
     "metadata": {},
     "output_type": "display_data"
    }
   ],
   "source": [
    "#Display final results\n",
    "fig = plt.figure()\n",
    "ax = fig.add_subplot(111)\n",
    "total_reward = 0\n",
    "s = env.reset()\n",
    "#env.render()\n",
    "for t in range(10000):\n",
    "    #Action probabilities in current state\n",
    "    probs = agent.predict_proba([s])[0]\n",
    "    #Select a random action with probs bias\n",
    "    a = np.random.choice(n_actions, p = probs)\n",
    "    new_s, r, done, info = env.step(a)\n",
    "    total_reward += r\n",
    "    ax.clear()\n",
    "    ax.imshow(env.render('rgb_array'))\n",
    "    fig.canvas.draw()\n",
    "    #Set the new state\n",
    "    s = new_s\n",
    "    if done: break\n",
    "print(total_reward)"
   ]
  },
  {
   "cell_type": "code",
   "execution_count": null,
   "metadata": {
    "scrolled": true
   },
   "outputs": [],
   "source": []
  },
  {
   "cell_type": "code",
   "execution_count": null,
   "metadata": {},
   "outputs": [],
   "source": []
  },
  {
   "cell_type": "code",
   "execution_count": null,
   "metadata": {},
   "outputs": [],
   "source": []
  },
  {
   "cell_type": "code",
   "execution_count": null,
   "metadata": {},
   "outputs": [],
   "source": []
  },
  {
   "cell_type": "code",
   "execution_count": null,
   "metadata": {},
   "outputs": [],
   "source": []
  },
  {
   "cell_type": "code",
   "execution_count": null,
   "metadata": {},
   "outputs": [],
   "source": []
  }
 ],
 "metadata": {
  "kernelspec": {
   "display_name": "Python 3",
   "language": "python",
   "name": "python3"
  },
  "language_info": {
   "codemirror_mode": {
    "name": "ipython",
    "version": 3
   },
   "file_extension": ".py",
   "mimetype": "text/x-python",
   "name": "python",
   "nbconvert_exporter": "python",
   "pygments_lexer": "ipython3",
   "version": "3.6.7"
  }
 },
 "nbformat": 4,
 "nbformat_minor": 2
}
