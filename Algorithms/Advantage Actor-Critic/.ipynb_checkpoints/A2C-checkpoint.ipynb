{
 "cells": [
  {
   "cell_type": "markdown",
   "metadata": {},
   "source": [
    "# Advantage Actor-Critic\n",
    "## Using TF-2\n",
    "\n",
    "### Tested on Atari Kung-Fu Master"
   ]
  },
  {
   "cell_type": "code",
   "execution_count": 1,
   "metadata": {},
   "outputs": [],
   "source": [
    "import gym\n",
    "import cv2\n",
    "import numpy as np\n",
    "import matplotlib.pyplot as plt\n",
    "%matplotlib inline"
   ]
  },
  {
   "cell_type": "markdown",
   "metadata": {},
   "source": [
    "## Preprocess game image!"
   ]
  },
  {
   "cell_type": "code",
   "execution_count": 2,
   "metadata": {},
   "outputs": [],
   "source": [
    "from gym.core import ObservationWrapper, Wrapper\n",
    "from gym.spaces import Box\n",
    "\n",
    "class PreprocessAtari(ObservationWrapper):\n",
    "    def __init__(self, env):\n",
    "        \"\"\"A gym wrapper that crops, scales image into the desired shapes and optionally grayscales it.\"\"\"\n",
    "        ObservationWrapper.__init__(self, env)\n",
    "\n",
    "        self.img_size = (42,42)\n",
    "        self.observation_space = Box(0.0, 1.0, (self.img_size[0], self.img_size[1], 1))\n",
    "        \n",
    "    def observation(self, img):\n",
    "        \n",
    "        img = img[60:-30, 5:].astype('float32')\n",
    "        img = cv2.resize(img/255.,self.img_size, interpolation=cv2.INTER_LINEAR)\n",
    "        img = img.mean(-1, keepdims=True)\n",
    "        return img"
   ]
  },
  {
   "cell_type": "code",
   "execution_count": 3,
   "metadata": {},
   "outputs": [
    {
     "data": {
      "text/plain": [
       "<matplotlib.image.AxesImage at 0x7f14a9d43f98>"
      ]
     },
     "execution_count": 3,
     "metadata": {},
     "output_type": "execute_result"
    },
    {
     "data": {
      "image/png": "[encoded data removed]",
      "text/plain": [
       "<Figure size 432x288 with 1 Axes>"
      ]
     },
     "metadata": {
      "needs_background": "light"
     },
     "output_type": "display_data"
    }
   ],
   "source": [
    "#Start the environment\n",
    "env = gym.make(\"KungFuMasterDeterministic-v0\")\n",
    "env = PreprocessAtari(env)\n",
    "\n",
    "observation_shape = env.observation_space.shape\n",
    "n_actions = env.action_space.n\n",
    "\n",
    "obs = env.reset()\n",
    "\n",
    "plt.title(\"what your network gonna see\")\n",
    "plt.imshow(obs, interpolation='none', cmap='gray')"
   ]
  },
  {
   "cell_type": "markdown",
   "metadata": {},
   "source": [
    "### Framebuffer"
   ]
  },
  {
   "cell_type": "code",
   "execution_count": 4,
   "metadata": {},
   "outputs": [],
   "source": [
    "class FrameBuffer(Wrapper):\n",
    "    def __init__(self, env, n_frames=4, dim_order='tensorflow'):\n",
    "        \"\"\"A gym wrapper that reshapes, crops and scales image into the desired shapes\"\"\"\n",
    "        super(FrameBuffer, self).__init__(env)\n",
    "        self.dim_order = dim_order\n",
    "        if dim_order == 'tensorflow':\n",
    "            height, width, n_channels = env.observation_space.shape\n",
    "            obs_shape = [height, width, n_channels * n_frames]\n",
    "        elif dim_order == 'pytorch':\n",
    "            n_channels, height, width = env.observation_space.shape\n",
    "            obs_shape = [n_channels * n_frames, height, width]\n",
    "        else:\n",
    "            raise ValueError(\n",
    "                'dim_order should be \"tensorflow\" or \"pytorch\", got {}'.format(dim_order))\n",
    "        self.observation_space = Box(0.0, 1.0, obs_shape)\n",
    "        self.framebuffer = np.zeros(obs_shape, 'float32')\n",
    "\n",
    "    def reset(self):\n",
    "        \"\"\"resets breakout, returns initial frames\"\"\"\n",
    "        self.framebuffer = np.zeros_like(self.framebuffer)\n",
    "        self.update_buffer(self.env.reset())\n",
    "        return self.framebuffer\n",
    "\n",
    "    def step(self, action):\n",
    "        \"\"\"plays breakout for 1 step, returns frame buffer\"\"\"\n",
    "        new_img, reward, done, info = self.env.step(action)\n",
    "        self.update_buffer(new_img)\n",
    "        return self.framebuffer, reward, done, info\n",
    "\n",
    "    def update_buffer(self, img):\n",
    "        if self.dim_order == 'tensorflow':\n",
    "            offset = self.env.observation_space.shape[-1]\n",
    "            axis = -1\n",
    "            cropped_framebuffer = self.framebuffer[:, :, :-offset]\n",
    "        elif self.dim_order == 'pytorch':\n",
    "            offset = self.env.observation_space.shape[0]\n",
    "            axis = 0\n",
    "            cropped_framebuffer = self.framebuffer[:-offset]\n",
    "        self.framebuffer = np.concatenate(\n",
    "            [img, cropped_framebuffer], axis=axis)"
   ]
  },
  {
   "cell_type": "code",
   "execution_count": 5,
   "metadata": {},
   "outputs": [
    {
     "name": "stdout",
     "output_type": "stream",
     "text": [
      "n_actions 14\n",
      "state_dim (42, 42, 4)\n",
      "Action names: ['NOOP', 'UP', 'RIGHT', 'LEFT', 'DOWN', 'DOWNRIGHT', 'DOWNLEFT', 'RIGHTFIRE', 'LEFTFIRE', 'DOWNFIRE', 'UPRIGHTFIRE', 'UPLEFTFIRE', 'DOWNRIGHTFIRE', 'DOWNLEFTFIRE']\n"
     ]
    }
   ],
   "source": [
    "def make_env():\n",
    "    env = gym.make(\"KungFuMasterDeterministic-v0\")\n",
    "    env = PreprocessAtari(env)\n",
    "    env = FrameBuffer(env, n_frames=4, dim_order='tensorflow')\n",
    "    return env\n",
    "\n",
    "env = make_env()\n",
    "env.reset()\n",
    "n_actions = env.action_space.n\n",
    "print(\"n_actions\", n_actions)\n",
    "state_dim = env.observation_space.shape\n",
    "print(\"state_dim\", state_dim)\n",
    "print(\"Action names:\", env.env.env.get_action_meanings())"
   ]
  },
  {
   "cell_type": "code",
   "execution_count": 6,
   "metadata": {},
   "outputs": [
    {
     "data": {
      "image/png": "[encoded data removed]",
      "text/plain": [
       "<Figure size 432x288 with 1 Axes>"
      ]
     },
     "metadata": {
      "needs_background": "light"
     },
     "output_type": "display_data"
    },
    {
     "data": {
      "text/plain": [
       "<matplotlib.image.AxesImage at 0x7f14e5f6d9b0>"
      ]
     },
     "execution_count": 6,
     "metadata": {},
     "output_type": "execute_result"
    },
    {
     "data": {
      "image/png": "[encoded data removed]",
      "text/plain": [
       "<Figure size 432x288 with 1 Axes>"
      ]
     },
     "metadata": {
      "needs_background": "light"
     },
     "output_type": "display_data"
    }
   ],
   "source": [
    "env.reset()\n",
    "for _ in range(100):\n",
    "    obs, _, _, _ = env.step(env.action_space.sample())\n",
    "\n",
    "\n",
    "plt.title(\"Game image\")\n",
    "plt.imshow(env.render(\"rgb_array\"))\n",
    "plt.show()\n",
    "\n",
    "plt.title(\"Agent observation\")\n",
    "plt.imshow(obs.transpose([0, 2, 1]).reshape([state_dim[0], -1]), cmap='gray')"
   ]
  },
  {
   "cell_type": "markdown",
   "metadata": {},
   "source": [
    "## TF Stuff"
   ]
  },
  {
   "cell_type": "code",
   "execution_count": 7,
   "metadata": {},
   "outputs": [],
   "source": [
    "import tensorflow as tf\n",
    "import tensorflow.keras as keras\n",
    "import tensorflow.keras.layers as L"
   ]
  },
  {
   "cell_type": "code",
   "execution_count": 8,
   "metadata": {},
   "outputs": [],
   "source": [
    "physical_devices = tf.config.experimental.list_physical_devices('GPU')\n",
    "tf.config.experimental.set_memory_growth(physical_devices[0], True)"
   ]
  },
  {
   "cell_type": "markdown",
   "metadata": {},
   "source": [
    "## Create our DNN model"
   ]
  },
  {
   "cell_type": "code",
   "execution_count": 9,
   "metadata": {},
   "outputs": [],
   "source": [
    "class OurDNN(keras.Model):\n",
    "    def __init__(self, input_dim, output_dim):\n",
    "        super(OurDNN, self).__init__()\n",
    "        #Input layer\n",
    "        self.inp = L.InputLayer(input_dim)\n",
    "#       #Hidden layers\n",
    "        self.hd1 = L.Conv2D(32, kernel_size=3, strides=2, activation='relu')\n",
    "        self.hd2 = L.Conv2D(32, kernel_size=3, strides=2, activation='relu')\n",
    "        self.hd3 = L.Conv2D(32, kernel_size=3, strides=2, activation='relu')\n",
    "        self.fl1 = L.Flatten()\n",
    "        self.hd4 = L.Dense(128, activation='relu')\n",
    "        #Outputs\n",
    "        self.v_s = L.Dense(1, activation='linear')\n",
    "        self.logits = L.Dense(output_dim, activation='linear')\n",
    "        \n",
    "    @tf.function\n",
    "    def call(self, input_data):\n",
    "        #Essentially feedforward your network\n",
    "        inp_fwd = self.inp(input_data)\n",
    "        x_fwd = self.hd1(inp_fwd)\n",
    "        x_fwd = self.hd2(x_fwd)\n",
    "        x_fwd = self.hd3(x_fwd)\n",
    "        x_fwd = self.fl1(x_fwd)\n",
    "        x_fwd = self.hd4(x_fwd)\n",
    "        #Get Value and Logits\n",
    "        v_s = self.v_s(x_fwd)\n",
    "        logits = self.logits(x_fwd)\n",
    "        #Get the output\n",
    "        return v_s, logits"
   ]
  },
  {
   "cell_type": "markdown",
   "metadata": {},
   "source": [
    "## Our A2C agent\n",
    "\n",
    "#### A2C is a form of policy gradient algorithm\n",
    "\n",
    "This algorithm basically learns both - value function and the policy while using the former to learn the latter faster.\n",
    "\n",
    "Advantage is given by,\n",
    "$$A(s,a) = r+\\gamma*V(s') - V(s)$$\n",
    "\n",
    "The advantage gives an estimate of well... advantage of being in a state rather than just the reward estimate at a state. This is easily visible in its equation\n",
    "\n",
    "Just like any other policy gradient algorithm, this uses expected discounted reward as the loss function and uses its gradient to update policy. But here we have two loss functions, J_actor and L_critic\n",
    "\n",
    "$$ J_{actor}(\\theta) = -{ 1 \\over N } \\sum_{i=0}^N \\sum_{s_i, a_i} \\log \\pi_\\theta (a_i \\mid s_i) \\cdot A(s,a) - \\lambda*entropy(p)$$\n",
    "\n",
    "$$L_{critic} = { 1 \\over N } \\sum_{i=0}^N \\sum_{s_i, a_i}(V_\\theta - [r + \\gamma*V(s')])^2$$\n",
    "\n",
    "Our network has two outputs, \n",
    "$\\pi_\\theta (a|s)$ and $V_\\theta(s)$ to be used for this optimization"
   ]
  },
  {
   "cell_type": "code",
   "execution_count": 10,
   "metadata": {},
   "outputs": [],
   "source": [
    "class OurAgent:\n",
    "    def __init__ (self, env, alpha=1e-4, gamma=0.99, lamb=0.001, load=False):\n",
    "        #Set up constants\n",
    "        self.state_dim = env.observation_space.shape\n",
    "        self.n_actions = env.action_space.n\n",
    "        self.gamma = gamma\n",
    "        self.env = env\n",
    "        self.optimizer = keras.optimizers.Adam(alpha)\n",
    "        self.lamb = lamb\n",
    "        \n",
    "        if load:\n",
    "            self.network = keras.models.load_model(\"./models/kung-fu\")\n",
    "            self.network.summary()\n",
    "            print(\"Loaded old model\")\n",
    "        else:\n",
    "            #Create model\n",
    "            self.network = OurDNN(self.state_dim, self.n_actions)\n",
    "            self.network.compile(self.optimizer)\n",
    "            print(\"Created new model\")\n",
    "    \n",
    "    def get_actions(self, states):\n",
    "        '''\n",
    "        Get policy action given the state\n",
    "        '''\n",
    "        #Get logits first\n",
    "        _, logits = self.network(states)\n",
    "        #Use softmax\n",
    "#         policy = tf.nn.softmax(logits, axis=-1)\n",
    "        #Using tf had precision errors\n",
    "        logits = logits.numpy()\n",
    "        policy = np.exp(logits) / np.sum(np.exp(logits), axis=-1, keepdims=True)\n",
    "#         print(np.sum(policy, axis=-1))\n",
    "        return np.array([np.random.choice(self.n_actions, p=p) for p in policy])\n",
    "    \n",
    "    def get_losses(self, states, actions, rewards, next_states):\n",
    "        '''\n",
    "        Calculate losses using the equations above\n",
    "        '''\n",
    "        #Get network outputs\n",
    "        v_s, logits = self.network(states)\n",
    "        #Get policy\n",
    "        policy = tf.nn.softmax(logits, axis=-1)\n",
    "        #Get log policy\n",
    "        log_policy = tf.nn.log_softmax(logits, axis=-1)\n",
    "        #Get log-policy for actions\n",
    "        indices = tf.stack([tf.range(tf.shape(log_policy)[0]), actions], axis=-1)\n",
    "        logp_actions = tf.gather_nd(log_policy, indices)\n",
    "        #Get entropy\n",
    "        entropy = -tf.reduce_sum(policy*log_policy, axis=1)\n",
    "        #Get target values\n",
    "        next_v_s, _ = self.network(next_states)\n",
    "        target_v_s = rewards + self.gamma*next_v_s\n",
    "        #Calculate advantage\n",
    "        advantage = target_v_s - v_s\n",
    "        #The actor-critic losses\n",
    "        actor_loss = -tf.reduce_mean(logp_actions*tf.stop_gradient(advantage), axis=0) - self.lamb*tf.reduce_mean(entropy, axis=0)\n",
    "        critic_loss = tf.reduce_mean((v_s - tf.stop_gradient(target_v_s))**2, axis=0)\n",
    "        \n",
    "        return actor_loss, critic_loss, entropy\n",
    "    \n",
    "    def train_step(self, states, actions, rewards, next_states):\n",
    "        '''\n",
    "        Using the training samples, update params\n",
    "        '''\n",
    "        variables = self.network.trainable_variables\n",
    "        with tf.GradientTape() as tape:\n",
    "            actor_loss, critic_loss, ent = self.get_losses(states, actions, rewards, next_states)\n",
    "            loss = actor_loss + critic_loss\n",
    "            grads = tape.gradient(loss, variables)\n",
    "            self.optimizer.apply_gradients(zip(grads, variables)) \n",
    "        return np.mean(loss), np.mean(ent)    \n",
    "            \n",
    "    def save(self):\n",
    "        self.network.save(\"./models/kung-fu\", save_format=\"tf\")"
   ]
  },
  {
   "cell_type": "code",
   "execution_count": 11,
   "metadata": {},
   "outputs": [],
   "source": [
    "def evaluate(agent, n_games=1):\n",
    "    '''\n",
    "    Plays n_games and returns rewards\n",
    "    '''\n",
    "    rewards = []\n",
    "    env = agent.env\n",
    "    for _ in range(n_games):\n",
    "        s = env.reset()\n",
    "        reward = 0\n",
    "        while 1:\n",
    "            a = agent.get_actions(s[None])[0]\n",
    "            s, r, d, _ = env.step(a)\n",
    "            reward += r\n",
    "            if d: break\n",
    "        rewards.append(reward)\n",
    "    return np.mean(rewards)"
   ]
  },
  {
   "cell_type": "code",
   "execution_count": 12,
   "metadata": {},
   "outputs": [
    {
     "name": "stdout",
     "output_type": "stream",
     "text": [
      "Created new model\n"
     ]
    }
   ],
   "source": [
    "agent = OurAgent(env)"
   ]
  },
  {
   "cell_type": "markdown",
   "metadata": {},
   "source": [
    "## Training on parallel games"
   ]
  },
  {
   "cell_type": "code",
   "execution_count": 13,
   "metadata": {},
   "outputs": [],
   "source": [
    "class EnvBatch:\n",
    "    def __init__(self, n_envs = 10):\n",
    "        \"\"\" Creates n_envs environments and babysits them for ya' \"\"\"\n",
    "        self.envs = [make_env() for _ in range(n_envs)]\n",
    "        \n",
    "    def reset(self):\n",
    "        \"\"\" Reset all games and return [n_envs, *obs_shape] observations \"\"\"\n",
    "        return np.array([env.reset() for env in self.envs])\n",
    "    \n",
    "    def step(self, actions):\n",
    "        \"\"\"\n",
    "        Send a vector[batch_size] of actions into respective environments\n",
    "        :returns: observations[n_envs, *obs_shape], rewards[n_envs], done[n_envs,], info[n_envs]\n",
    "        \"\"\"\n",
    "        results = [env.step(a) for env, a in zip(self.envs, actions)]\n",
    "        new_obs, rewards, done, infos = map(np.array, zip(*results))\n",
    "        \n",
    "        # reset environments automatically\n",
    "        for i in range(len(self.envs)):\n",
    "            if done[i]:\n",
    "                new_obs[i] = self.envs[i].reset()\n",
    "        \n",
    "        return new_obs, rewards, done, infos"
   ]
  },
  {
   "cell_type": "code",
   "execution_count": 14,
   "metadata": {
    "scrolled": false
   },
   "outputs": [
    {
     "name": "stdout",
     "output_type": "stream",
     "text": [
      "State shape: (10, 42, 42, 4)\n",
      "Actions: [12  5  2  5 13 11 12  2  4  7]\n",
      "Rewards: [0. 0. 0. 0. 0. 0. 0. 0. 0. 0.]\n",
      "Done: [False False False False False False False False False False]\n"
     ]
    }
   ],
   "source": [
    "#Test\n",
    "env_batch = EnvBatch(10)\n",
    "\n",
    "batch_states = env_batch.reset()\n",
    "batch_actions = agent.get_actions(batch_states)\n",
    "\n",
    "batch_next_states, batch_rewards, batch_done, _ = env_batch.step(batch_actions)\n",
    "\n",
    "print(\"State shape:\", batch_states.shape)\n",
    "print(\"Actions:\", batch_actions)\n",
    "print(\"Rewards:\", batch_rewards)\n",
    "print(\"Done:\", batch_done)"
   ]
  },
  {
   "cell_type": "markdown",
   "metadata": {},
   "source": [
    "## Train!"
   ]
  },
  {
   "cell_type": "code",
   "execution_count": 15,
   "metadata": {},
   "outputs": [],
   "source": [
    "import pandas as pd\n",
    "import tqdm\n",
    "from IPython.display import clear_output\n",
    "\n",
    "def ewma(x, span=100):\n",
    "    return pd.DataFrame({'x':np.asarray(x)}).x.ewm(span=span).mean().values\n",
    "\n",
    "env_batch = EnvBatch(10)\n",
    "batch_states = env_batch.reset()\n",
    "\n",
    "rewards_history = []\n",
    "entropy_history = []"
   ]
  },
  {
   "cell_type": "code",
   "execution_count": 16,
   "metadata": {},
   "outputs": [
    {
     "data": {
      "image/png": "[encoded data removed]",
      "text/plain": [
       "<Figure size 2880x288 with 1 Axes>"
      ]
     },
     "metadata": {
      "needs_background": "light"
     },
     "output_type": "display_data"
    },
    {
     "data": {
      "image/png": "[encoded data removed]",
      "text/plain": [
       "<Figure size 2880x288 with 1 Axes>"
      ]
     },
     "metadata": {
      "needs_background": "light"
     },
     "output_type": "display_data"
    }
   ],
   "source": [
    "try:\n",
    "    with tqdm.trange(len(entropy_history), 100000) as t:\n",
    "        for i in t:\n",
    "            #Run sessions\n",
    "            batch_actions = agent.get_actions(batch_states)\n",
    "            batch_next_states, batch_rewards, batch_done, _ = env_batch.step(batch_actions)\n",
    "            #Reward scaling\n",
    "            batch_rewards = batch_rewards * 0.01\n",
    "            #Train!\n",
    "            loss, ent = agent.train_step(batch_states, batch_actions, batch_rewards, batch_next_states)\n",
    "            entropy_history.append(ent)\n",
    "            #Update\n",
    "            batch_states = batch_next_states\n",
    "\n",
    "            if i%500 == 0:\n",
    "                if i %2500 == 0:\n",
    "                    rewards_history.append(evaluate(agent, n_games=3))\n",
    "                    if rewards_history[-1] >= 5000:\n",
    "                        print(\"Won yellow belt\")\n",
    "                        agent.save()\n",
    "                clear_output(True)\n",
    "                \n",
    "                print(\"Mean reward: \", rewards_history[-1])\n",
    "                plt.figure(figsize=[40, 4])\n",
    "                plt.subplot(1, 2, 1)\n",
    "                plt.plot(rewards_history, label='rewards')\n",
    "                plt.plot(ewma(np.array(rewards_history), span=10), marker='.', label='rewards ewma@10')\n",
    "                plt.title(\"Session rewards\")\n",
    "                plt.grid()\n",
    "                plt.legend()\n",
    "\n",
    "                plt.figure(figsize=[40, 4])\n",
    "                plt.subplot(1, 2, 2)\n",
    "                plt.plot(entropy_history, label='entropy')\n",
    "                plt.plot(ewma(np.array(entropy_history), span=1000), label='entropy ewma@1000')\n",
    "                plt.title(\"Policy entropy\")\n",
    "                plt.grid()\n",
    "                plt.legend()\n",
    "                plt.show()\n",
    "            \n",
    "except KeyboardInterrupt:\n",
    "    clear_output(True)\n",
    "    \n",
    "    print(\"Mean reward: \", rewards_history[-1])\n",
    "    plt.figure(figsize=[40, 4])\n",
    "    plt.subplot(1, 2, 1)\n",
    "    plt.plot(rewards_history, label='rewards')\n",
    "    plt.plot(ewma(np.array(rewards_history), span=10), marker='.', label='rewards ewma@10')\n",
    "    plt.title(\"Session rewards\")\n",
    "    plt.grid()\n",
    "    plt.legend()\n",
    "\n",
    "    plt.figure(figsize=[40, 4])\n",
    "    plt.subplot(1, 2, 2)\n",
    "    plt.plot(entropy_history, label='entropy')\n",
    "    plt.plot(ewma(np.array(entropy_history), span=1000), label='entropy ewma@1000')\n",
    "    plt.title(\"Policy entropy\")\n",
    "    plt.grid()\n",
    "    plt.legend()\n",
    "    plt.show()"
   ]
  },
  {
   "cell_type": "code",
   "execution_count": null,
   "metadata": {},
   "outputs": [],
   "source": [
    "agent.save()"
   ]
  },
  {
   "cell_type": "code",
   "execution_count": null,
   "metadata": {},
   "outputs": [],
   "source": []
  },
  {
   "cell_type": "code",
   "execution_count": null,
   "metadata": {},
   "outputs": [],
   "source": []
  }
 ],
 "metadata": {
  "kernelspec": {
   "display_name": "Python 3",
   "language": "python",
   "name": "python3"
  },
  "language_info": {
   "codemirror_mode": {
    "name": "ipython",
    "version": 3
   },
   "file_extension": ".py",
   "mimetype": "text/x-python",
   "name": "python",
   "nbconvert_exporter": "python",
   "pygments_lexer": "ipython3",
   "version": "3.6.10"
  }
 },
 "nbformat": 4,
 "nbformat_minor": 4
}
